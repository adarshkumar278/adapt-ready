{
 "cells": [
  {
   "cell_type": "markdown",
   "id": "c03cdf90",
   "metadata": {},
   "source": [
    "# Given an unsorted array of integers, find the length of the longest continuous increasing subsequence (subarray). \n",
    "\n"
   ]
  },
  {
   "cell_type": "markdown",
   "id": "2d834a6a",
   "metadata": {},
   "source": [
    "Example 1:\n",
    "Input: [1,3,5,4,7]\n",
    "Output: 3 \n",
    "\n"
   ]
  },
  {
   "cell_type": "code",
   "execution_count": 1,
   "id": "e156e388",
   "metadata": {},
   "outputs": [
    {
     "name": "stdout",
     "output_type": "stream",
     "text": [
      "3\n"
     ]
    }
   ],
   "source": [
    "def findLengthOfLCIS(nums):\n",
    "    if not nums:\n",
    "        return 0\n",
    "    \n",
    "    max_length = 1\n",
    "    current_length = 1\n",
    "    \n",
    "    for i in range(1, len(nums)):\n",
    "        if nums[i] > nums[i - 1]:\n",
    "            current_length += 1\n",
    "            max_length = max(max_length, current_length)\n",
    "        else:\n",
    "            current_length = 1\n",
    "    \n",
    "    return max_length\n",
    "\n",
    "# Test the function\n",
    "nums = [1, 3, 5, 4, 7]\n",
    "print(findLengthOfLCIS(nums)) "
   ]
  },
  {
   "cell_type": "markdown",
   "id": "f9686c1d",
   "metadata": {},
   "source": [
    "# 3. Given a list of non negative integers, arrange them such that they form the largest number."
   ]
  },
  {
   "cell_type": "raw",
   "id": "750f8b2c",
   "metadata": {},
   "source": [
    "\n",
    " Example 1:\n",
    " Input: [10,2]\n",
    " Output: \"210\"\n",
    " Example 2: \n",
    "\n"
   ]
  },
  {
   "cell_type": "code",
   "execution_count": 3,
   "id": "109a4f19",
   "metadata": {},
   "outputs": [
    {
     "name": "stdout",
     "output_type": "stream",
     "text": [
      "102\n",
      "3303459\n"
     ]
    }
   ],
   "source": [
    "def largestNumber(nums):\n",
    "    # Convert integers to strings for comparison\n",
    "    nums = list(map(str, nums))\n",
    "    \n",
    "    # Define a custom comparison function for sorting\n",
    "    def compare(x, y):\n",
    "        # Compare strings based on their concatenated values\n",
    "        return int(y + x) - int(x + y)\n",
    "    \n",
    "    # Sort the list using the custom comparison function\n",
    "    nums.sort(key=lambda x: compare(x, ''))\n",
    "    \n",
    "    # If the largest number is \"0\", return \"0\"\n",
    "    if nums[0] == \"0\":\n",
    "        return \"0\"\n",
    "    \n",
    "    # Concatenate sorted strings to form the largest number\n",
    "    return \"\".join(nums)\n",
    "\n",
    "# Test the function\n",
    "nums1 = [10, 2]\n",
    "print(largestNumber(nums1))  # Output: \"210\"\n",
    "\n",
    "nums2 = [3, 30, 34, 5, 9]\n",
    "print(largestNumber(nums2))  # Output: \"9534330\"\n",
    "\n"
   ]
  },
  {
   "cell_type": "markdown",
   "id": "7cf4d26b",
   "metadata": {},
   "source": [
    "# 4. Store all the \"servlet-name\", and \"servlet-class\" to a csv file from the attached sample_json.json file using Python."
   ]
  },
  {
   "cell_type": "code",
   "execution_count": 6,
   "id": "948e7dfc",
   "metadata": {},
   "outputs": [
    {
     "name": "stdout",
     "output_type": "stream",
     "text": [
      "Data has been successfully stored in servlet_data.csv file.\n"
     ]
    }
   ],
   "source": [
    "import json\n",
    "import csv\n",
    "\n",
    "# Read the JSON file\n",
    "with open(r\"C:\\Users\\LENOVO\\Downloads\\adapt ready assignment\\DT A1 sample_json (1) (1).json\", 'r') as json_file:\n",
    "    data = json.load(json_file)\n",
    "\n",
    "\n",
    "# Extract \"servlet-name\" and \"servlet-class\" from each object in the JSON\n",
    "servlet_data = [(servlet['servlet-name'], servlet['servlet-class']) for servlet in data['web-app']['servlet']]\n",
    "\n",
    "# Write the extracted data to a CSV file\n",
    "with open('servlet_data.csv', 'w', newline='') as csv_file:\n",
    "    writer = csv.writer(csv_file)\n",
    "    # Write header\n",
    "    writer.writerow(['servlet-name', 'servlet-class'])\n",
    "    # Write data rows\n",
    "    writer.writerows(servlet_data)\n",
    "\n",
    "print(\"Data has been successfully stored in servlet_data.csv file.\")\n"
   ]
  },
  {
   "cell_type": "markdown",
   "id": "70f4788b",
   "metadata": {},
   "source": [
    "\n",
    "# "
   ]
  },
  {
   "cell_type": "code",
   "execution_count": 1,
   "id": "1079a3ab",
   "metadata": {},
   "outputs": [],
   "source": [
    "import pandas as pd\n",
    "import numpy as np\n",
    "import matplotlib.pyplot as plt\n",
    "import seaborn as sns\n",
    "import json"
   ]
  },
  {
   "cell_type": "code",
   "execution_count": 2,
   "id": "33a0899f",
   "metadata": {},
   "outputs": [
    {
     "ename": "FileNotFoundError",
     "evalue": "[Errno 2] No such file or directory: 'C:/Users/91805/Documents/Python Scripts/Assessment/DT A1 sample_json.json'",
     "output_type": "error",
     "traceback": [
      "\u001b[1;31m---------------------------------------------------------------------------\u001b[0m",
      "\u001b[1;31mFileNotFoundError\u001b[0m                         Traceback (most recent call last)",
      "Cell \u001b[1;32mIn[2], line 1\u001b[0m\n\u001b[1;32m----> 1\u001b[0m \u001b[38;5;28;01mwith\u001b[39;00m \u001b[38;5;28mopen\u001b[39m(\u001b[38;5;124m\"\u001b[39m\u001b[38;5;124mC:/Users/91805/Documents/Python Scripts/Assessment/DT A1 sample_json.json\u001b[39m\u001b[38;5;124m\"\u001b[39m) \u001b[38;5;28;01mas\u001b[39;00m f:\n\u001b[0;32m      2\u001b[0m     data \u001b[38;5;241m=\u001b[39m json\u001b[38;5;241m.\u001b[39mload(f)\n",
      "File \u001b[1;32m~\\anaconda3\\Lib\\site-packages\\IPython\\core\\interactiveshell.py:286\u001b[0m, in \u001b[0;36m_modified_open\u001b[1;34m(file, *args, **kwargs)\u001b[0m\n\u001b[0;32m    279\u001b[0m \u001b[38;5;28;01mif\u001b[39;00m file \u001b[38;5;129;01min\u001b[39;00m {\u001b[38;5;241m0\u001b[39m, \u001b[38;5;241m1\u001b[39m, \u001b[38;5;241m2\u001b[39m}:\n\u001b[0;32m    280\u001b[0m     \u001b[38;5;28;01mraise\u001b[39;00m \u001b[38;5;167;01mValueError\u001b[39;00m(\n\u001b[0;32m    281\u001b[0m         \u001b[38;5;124mf\u001b[39m\u001b[38;5;124m\"\u001b[39m\u001b[38;5;124mIPython won\u001b[39m\u001b[38;5;124m'\u001b[39m\u001b[38;5;124mt let you open fd=\u001b[39m\u001b[38;5;132;01m{\u001b[39;00mfile\u001b[38;5;132;01m}\u001b[39;00m\u001b[38;5;124m by default \u001b[39m\u001b[38;5;124m\"\u001b[39m\n\u001b[0;32m    282\u001b[0m         \u001b[38;5;124m\"\u001b[39m\u001b[38;5;124mas it is likely to crash IPython. If you know what you are doing, \u001b[39m\u001b[38;5;124m\"\u001b[39m\n\u001b[0;32m    283\u001b[0m         \u001b[38;5;124m\"\u001b[39m\u001b[38;5;124myou can use builtins\u001b[39m\u001b[38;5;124m'\u001b[39m\u001b[38;5;124m open.\u001b[39m\u001b[38;5;124m\"\u001b[39m\n\u001b[0;32m    284\u001b[0m     )\n\u001b[1;32m--> 286\u001b[0m \u001b[38;5;28;01mreturn\u001b[39;00m io_open(file, \u001b[38;5;241m*\u001b[39margs, \u001b[38;5;241m*\u001b[39m\u001b[38;5;241m*\u001b[39mkwargs)\n",
      "\u001b[1;31mFileNotFoundError\u001b[0m: [Errno 2] No such file or directory: 'C:/Users/91805/Documents/Python Scripts/Assessment/DT A1 sample_json.json'"
     ]
    }
   ],
   "source": [
    "with open(C:\\Users\\LENOVO\\Downloads\\adapt ready assignment\\DT A1 sample_json (1) (1).json\") as f:\n",
    "    data = json.load(f)"
   ]
  },
  {
   "cell_type": "code",
   "execution_count": 3,
   "id": "a7b4f068",
   "metadata": {},
   "outputs": [
    {
     "ename": "NameError",
     "evalue": "name 'data' is not defined",
     "output_type": "error",
     "traceback": [
      "\u001b[1;31m---------------------------------------------------------------------------\u001b[0m",
      "\u001b[1;31mNameError\u001b[0m                                 Traceback (most recent call last)",
      "Cell \u001b[1;32mIn[3], line 1\u001b[0m\n\u001b[1;32m----> 1\u001b[0m data\n",
      "\u001b[1;31mNameError\u001b[0m: name 'data' is not defined"
     ]
    }
   ],
   "source": [
    "data"
   ]
  },
  {
   "cell_type": "code",
   "execution_count": null,
   "id": "8c8f4514",
   "metadata": {},
   "outputs": [],
   "source": [
    "missing_values = False\n",
    "for key, value in data.items():\n",
    "    if value is None:\n",
    "        print(f\"Missing value for key: {key}\")\n",
    "        missing_values = True\n",
    "\n",
    "if not missing_values:\n",
    "    print(\"No missing values found in the JSON data.\")"
   ]
  }
 ],
 "metadata": {
  "kernelspec": {
   "display_name": "Python 3 (ipykernel)",
   "language": "python",
   "name": "python3"
  },
  "language_info": {
   "codemirror_mode": {
    "name": "ipython",
    "version": 3
   },
   "file_extension": ".py",
   "mimetype": "text/x-python",
   "name": "python",
   "nbconvert_exporter": "python",
   "pygments_lexer": "ipython3",
   "version": "3.11.5"
  }
 },
 "nbformat": 4,
 "nbformat_minor": 5
}
